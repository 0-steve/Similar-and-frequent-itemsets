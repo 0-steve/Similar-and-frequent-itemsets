{
 "cells": [
  {
   "cell_type": "code",
   "execution_count": null,
   "metadata": {},
   "outputs": [],
   "source": [
    "import pandas as pd\n",
    "import numpy as np\n",
    "from sklearn.preprocessing import MultiLabelBinarizer\n",
    "from mlxtend.frequent_patterns import apriori"
   ]
  },
  {
   "cell_type": "code",
   "execution_count": null,
   "metadata": {},
   "outputs": [],
   "source": [
    "# create jaaccard similarity function\n",
    "def jaccard_similarity(set_a, set_b):\n",
    "    intersection = len(set(set_a).intersection(set_b))\n",
    "    union = (len(set_a) + len(set_b)) - intersection\n",
    "    return float(intersection) / union\n",
    "\n",
    "# create frequent itemset function\n",
    "def emoji_frequent_itemsets(emoji_matrix, min_support=0.005, k=3):\n",
    "    apriori_emoji = apriori(emoji_matrix, min_support=min_support, use_colnames=True)\n",
    "    return apriori_emoji[apriori_emoji['itemsets'].apply(lambda x: len(x)) == k]\n",
    "\n",
    "tweets = pd.read_csv('tweets.csv')\n",
    "main_tweet = '💸🤑💰💵🥊👊🔥💰'\n",
    "main_tweet_set = set(main_tweet)"
   ]
  },
  {
   "cell_type": "code",
   "execution_count": null,
   "metadata": {},
   "outputs": [],
   "source": [
    "# get emojis from main tweet\n",
    "tweets['emojis'] = tweets.text.apply(lambda text:np.unique([chr for chr in text if chr in main_tweet_set]))\n",
    "# determine jaccard similarity between main tweet and sample tweet\n",
    "tweets['jaccard'] = tweets.emojis.apply(lambda x:jaccard_similarity(main_tweet_set, set(x)))\n",
    "tweets.sort_values('jaccard',ascending=False).head(n=10)"
   ]
  },
  {
   "cell_type": "code",
   "execution_count": null,
   "metadata": {},
   "outputs": [],
   "source": [
    "# apriori frequent 3-itemsets\n",
    "emojis = ['☘️','🇮🇪','🍀','💸','🤑','💰','💵','😴','😂','🤣','🥊','👊','👏','🇮🇪','💪','🔥','😭','💰']\n",
    "emoji_set = set(emojis)\n",
    "\n",
    "# get emojis from emoji tweet\n",
    "tweets['emojis'] = tweets.text.apply(lambda text:np.unique([chr for chr in text if chr in emoji_set]))\n",
    "\n",
    "# create emoji matrix\n",
    "mlb = MultiLabelBinarizer()\n",
    "emoji_matrix = pd.DataFrame(data=mlb.fit_transform(tweets.emojis), index=tweets.index, columns=mlb.classes_)\n",
    "emoji_frequent_itemsets(emoji_matrix, min_support=0.005, k=3)"
   ]
  }
 ],
 "metadata": {
  "kernelspec": {
   "display_name": "Python 3",
   "language": "python",
   "name": "python3"
  },
  "language_info": {
   "codemirror_mode": {
    "name": "ipython",
    "version": 3
   },
   "file_extension": ".py",
   "mimetype": "text/x-python",
   "name": "python",
   "nbconvert_exporter": "python",
   "pygments_lexer": "ipython3",
   "version": "3.7.4"
  }
 },
 "nbformat": 4,
 "nbformat_minor": 2
}
